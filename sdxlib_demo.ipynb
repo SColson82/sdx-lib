{
 "cells": [
  {
   "cell_type": "code",
   "execution_count": 1,
   "id": "95b3b5a4",
   "metadata": {},
   "outputs": [],
   "source": [
    "from pprint import pprint\n",
    "import requests\n",
    "import requests_mock\n",
    "from sdxlib.sdx_client import SDXClient\n",
    "from sdxlib.sdx_exception import SDXException"
   ]
  },
  {
   "cell_type": "markdown",
   "id": "03364563",
   "metadata": {},
   "source": [
    "# Creating L2VPN"
   ]
  },
  {
   "cell_type": "code",
   "execution_count": 2,
   "id": "56ac0f50",
   "metadata": {},
   "outputs": [],
   "source": [
    "# Define a mock response dictionaries for each of the required scenarios\n",
    "\n",
    "# Successful object creation\n",
    "mock_response_successful = {\n",
    "    \"service_id\": \"123e4567-e89b-12d3-a456-426614174000\",\n",
    "}\n",
    "\n",
    "# Error Codes for SDXExceptions\n",
    "mock_response_unsuccessful_400 = {\n",
    "    \"400\": \"Request does not have a valid JSON or body is incomplete/incorrect\"\n",
    "}\n",
    "mock_response_unsuccessful_401 = {\n",
    "    \"401\": \"Not Authorized\"\n",
    "}\n",
    "mock_response_unsuccessful_402 = {\n",
    "    \"402\": \"Request not compatible (e.g., P2MP L2VPN requested, but only P2P supported)\"\n",
    "}\n",
    "mock_response_unsuccessful_409 = {\n",
    "    \"409\": \"L2VPN Service already exists\"\n",
    "}\n",
    "mock_response_unsuccessful_410 = {\n",
    "    \"410\": \"Can't fulfill the strict QoS requirements\"\n",
    "}\n",
    "mock_response_unsuccessful_411 = {\n",
    "    \"411\": \"Scheduling not possible\"\n",
    "}\n",
    "mock_response_unsuccessful_422 = {\n",
    "    \"422\": \"Attribute not supported by the SDX-LC/OXPO\"\n",
    "}"
   ]
  },
  {
   "cell_type": "code",
   "execution_count": 3,
   "id": "7d50a9ef",
   "metadata": {},
   "outputs": [],
   "source": [
    "# Define the required attributes\n",
    "url = \"http://example.com\"\n",
    "client_name = \"Test L2VPN\"\n",
    "client_endpoints = [\n",
    "    {\"port_id\": \"urn:sdx:port:sax.br:Rtr01:50\", \"vlan\": \"any\"},\n",
    "    {\"port_id\": \"urn:sdx:port:ampath.net:Ampath3:50\", \"vlan\": \"any\"}\n",
    "]"
   ]
  },
  {
   "cell_type": "code",
   "execution_count": 4,
   "id": "f9252bc4",
   "metadata": {},
   "outputs": [],
   "source": [
    "# Create the L2VPN object\n",
    "client = SDXClient(url, client_name, client_endpoints)"
   ]
  },
  {
   "cell_type": "code",
   "execution_count": 5,
   "id": "14d4705a",
   "metadata": {},
   "outputs": [
    {
     "data": {
      "text/plain": [
       "SDXClient(base_url=http://example.com, name=Test L2VPN, endpoints=[{'port_id': 'urn:sdx:port:sax.br:Rtr01:50', 'vlan': 'any'}, {'port_id': 'urn:sdx:port:ampath.net:Ampath3:50', 'vlan': 'any'}])"
      ]
     },
     "execution_count": 5,
     "metadata": {},
     "output_type": "execute_result"
    }
   ],
   "source": [
    "client"
   ]
  },
  {
   "cell_type": "code",
   "execution_count": 6,
   "id": "b5ebd5d9",
   "metadata": {},
   "outputs": [
    {
     "name": "stdout",
     "output_type": "stream",
     "text": [
      "Mock for request exception set with URL: http://example.com/l2vpn/1.0\n",
      "L2VPN creation request sent to http://example.com/l2vpn/1.0. It may take several seconds to receive a response.\n",
      "Mocked server response:\n",
      " {\"422\": \"Attribute not supported by the SDX-LC/OXPO\"}\n",
      "L2VPN creation failed: Attribute not supported by the SDX-LC/OXPO\n"
     ]
    }
   ],
   "source": [
    "# Create a mocker for requests for the unsuccessful case\n",
    "with requests_mock.Mocker() as mock_requests:\n",
    "    # Mock unsuccessful L2VPN creation\n",
    "    mock_requests.register_uri(\n",
    "        \"POST\", f\"{url}/l2vpn/1.0\",\n",
    "        json=mock_response_unsuccessful_422,\n",
    "        status_code=422  # Set status code for unsuccessful creation\n",
    "    )\n",
    "    \n",
    "    # Debug print to verify the mock setup\n",
    "    print(f\"Mock for request exception set with URL: {url}/l2vpn/1.0\")\n",
    "\n",
    "    try:\n",
    "        response = client.create_l2vpn()  \n",
    "        print(\"Request successful.\")\n",
    "    except SDXException as e:\n",
    "        print(f\"L2VPN creation failed: {e}\")  "
   ]
  },
  {
   "cell_type": "code",
   "execution_count": 7,
   "id": "00b93f6a",
   "metadata": {},
   "outputs": [
    {
     "name": "stderr",
     "output_type": "stream",
     "text": [
      "An error occurred while creating L2VPN: Connection error\n"
     ]
    },
    {
     "name": "stdout",
     "output_type": "stream",
     "text": [
      "Mock for request exception set with URL: http://example.com/l2vpn/1.0\n",
      "L2VPN creation request sent to http://example.com/l2vpn/1.0. It may take several seconds to receive a response.\n",
      "An error occurred while creating L2VPN: Connection error\n",
      "L2VPN creation failed: An error occurred while creating L2VPN: Connection error\n"
     ]
    }
   ],
   "source": [
    "# Create a mocker for requests to simulate a RequestException\n",
    "with requests_mock.Mocker() as mock_requests:\n",
    "    # Mock a request exception scenario (e.g., connection error)\n",
    "    mock_requests.register_uri(\n",
    "        \"POST\", f\"{url}/l2vpn/1.0\",\n",
    "        exc=requests.exceptions.RequestException(\"Connection error\")\n",
    "    )\n",
    "    \n",
    "    # Debug print to verify the mock setup\n",
    "    print(f\"Mock for request exception set with URL: {url}/l2vpn/1.0\")\n",
    "\n",
    "    try:\n",
    "        response = client.create_l2vpn()  \n",
    "    except SDXException as e:\n",
    "        print(f\"L2VPN creation failed: {e}\")  \n",
    "    except requests.exceptions.RequestException as e:\n",
    "        print(f\"Request exception occurred: {e}\")  "
   ]
  },
  {
   "cell_type": "code",
   "execution_count": 8,
   "id": "8ab5a33c",
   "metadata": {},
   "outputs": [
    {
     "name": "stdout",
     "output_type": "stream",
     "text": [
      "Mocking URL: http://example.com/l2vpn/1.0\n",
      "L2VPN creation request sent to http://example.com/l2vpn/1.0. It may take several seconds to receive a response.\n",
      "L2VPN creation successful!\n",
      "{'service_id': '123e4567-e89b-12d3-a456-426614174000'}\n"
     ]
    }
   ],
   "source": [
    "# Create a mocker for requests\n",
    "with requests_mock.Mocker() as mock_requests:\n",
    "    # Mock successful L2VPN creation\n",
    "    mock_requests.register_uri(\n",
    "        \"POST\", f\"{url}/l2vpn/1.0\", \n",
    "        json=mock_response_successful,\n",
    "        status_code=201  # Set status code for successful creation\n",
    "    )\n",
    "    \n",
    "    # Adding debug statement to confirm URL and method\n",
    "    print(f\"Mocking URL: {url}/l2vpn/1.0\")\n",
    "\n",
    "    try:\n",
    "        response = client.create_l2vpn()  \n",
    "        print(\"L2VPN creation successful!\")\n",
    "        pprint(response)\n",
    "    except SDXException as e:\n",
    "        print(f\"L2VPN creation failed: {e}\")  "
   ]
  },
  {
   "cell_type": "markdown",
   "id": "9e4be91b",
   "metadata": {},
   "source": [
    "# Update L2VPNs"
   ]
  },
  {
   "cell_type": "code",
   "execution_count": 9,
   "id": "5fb4460a",
   "metadata": {},
   "outputs": [],
   "source": [
    "# Mock successful response\n",
    "mock_response = {\n",
    "    \"service_id\": \"123e4567-e89b-12d3-a456-426614174000\",\n",
    "    \"description\": \"L2VPN Service Modified\"\n",
    "}"
   ]
  },
  {
   "cell_type": "code",
   "execution_count": 10,
   "id": "0e70e00a",
   "metadata": {},
   "outputs": [],
   "source": [
    "# Define your SDXClient instance with mock URL and initial configuration\n",
    "url = \"http://example.com\"\n",
    "client_name = \"Test L2VPN\"\n",
    "client_endpoints = [\n",
    "    {\"port_id\": \"urn:sdx:port:sax.br:Rtr01:50\", \"vlan\": \"any\"},\n",
    "    {\"port_id\": \"urn:sdx:port:ampath.net:Ampath3:50\", \"vlan\": \"any\"}\n",
    "]"
   ]
  },
  {
   "cell_type": "code",
   "execution_count": 11,
   "id": "07e4d5c4",
   "metadata": {},
   "outputs": [],
   "source": [
    "# Create the SDXClient instance\n",
    "client = SDXClient(url, client_name, client_endpoints)"
   ]
  },
  {
   "cell_type": "code",
   "execution_count": 12,
   "id": "fdb5d000",
   "metadata": {},
   "outputs": [
    {
     "name": "stdout",
     "output_type": "stream",
     "text": [
      "Sending update to http://example.com/l2vpn/1.0/123e4567-e89b-12d3-a456-426614174000\n",
      "SDXException: L2VPN Service ID not found\n"
     ]
    }
   ],
   "source": [
    "# Example update_l2vpn scenario with requests_mock\n",
    "with requests_mock.Mocker() as m:\n",
    "\n",
    "    # Mock endpoint URL\n",
    "    mock_url = f\"{url}/l2vpn/{client.VERSION}/123e4567-e89b-12d3-a456-426614174000\"\n",
    "    \n",
    "    # Example for handling other status codes if needed\n",
    "    m.patch(mock_url, status_code=404)  # Mocking 404 response\n",
    "    \n",
    "    try:\n",
    "        response = client.update_l2vpn(\"123e4567-e89b-12d3-a456-426614174000\", \"state\", \"enabled\")\n",
    "        print(\"Update Successful:\")\n",
    "        pprint(response)\n",
    "    except SDXException as e:\n",
    "        print(\"SDXException:\", e)\n",
    "    except Exception as e:\n",
    "        print(\"Exception:\", e)"
   ]
  },
  {
   "cell_type": "code",
   "execution_count": 13,
   "id": "984deb82",
   "metadata": {},
   "outputs": [
    {
     "name": "stdout",
     "output_type": "stream",
     "text": [
      "Sending update to http://example.com/l2vpn/1.0/123e4567-e89b-12d3-a456-426614174000\n",
      "Update Successful:\n",
      "{'description': 'L2VPN Service Modified',\n",
      " 'service_id': '123e4567-e89b-12d3-a456-426614174000'}\n"
     ]
    }
   ],
   "source": [
    "# Example update_l2vpn scenario with requests_mock\n",
    "with requests_mock.Mocker() as m:\n",
    "\n",
    "    # Mock endpoint URL\n",
    "    mock_url = f\"{url}/l2vpn/{client.VERSION}/123e4567-e89b-12d3-a456-426614174000\"\n",
    "    \n",
    "    # Register mock response for patch request\n",
    "    m.patch(mock_url, json=mock_response, status_code=200)\n",
    "    \n",
    "    # Call the update_l2vpn method\n",
    "    try:\n",
    "        response = client.update_l2vpn(\"123e4567-e89b-12d3-a456-426614174000\", \"state\", \"enabled\")\n",
    "        print(\"Update Successful:\")\n",
    "        pprint(response)\n",
    "    except SDXException as e:\n",
    "        print(\"SDXException:\", e)\n",
    "    except Exception as e:\n",
    "        print(\"Exception:\", e)\n"
   ]
  },
  {
   "cell_type": "markdown",
   "id": "42f88e4a",
   "metadata": {},
   "source": [
    "# Retrieve All L2VPNs"
   ]
  },
  {
   "cell_type": "code",
   "execution_count": 14,
   "id": "dee445b4",
   "metadata": {},
   "outputs": [],
   "source": [
    "# Define a mock response for no L2VPNs existing\n",
    "mock_response_no_l2vpns = {}\n",
    "\n",
    "# Define a mock response for one or more L2VPNs existing\n",
    "mock_response_l2vpns_exist = {\n",
    "    \"c73da8e1-5d03-4620-a1db-7cdf23e8978c\": {\n",
    "        \"service_id\": \"c73da8e1-5d03-4620-a1db-7cdf23e8978c\",\n",
    "        \"name\": \"VLAN between AMPATH/300 and TENET/150\",\n",
    "        \"endpoints\": [\n",
    "            {\"port_id\": \"urn:sdx:port:tenet.ac.za:Tenet03:50\", \"vlan\": \"150\"},\n",
    "            {\"port_id\": \"urn:sdx:port:ampath.net:Ampath3:50\", \"vlan\": \"300\"}\n",
    "        ],\n",
    "        \"description\": \"Example 1\",\n",
    "        \"qos_metrics\": {\n",
    "            \"min_bw\": {\n",
    "                \"value\": 5,\n",
    "                \"strict\": False\n",
    "            },\n",
    "            \"max_delay\": {\n",
    "                \"value\": 150,\n",
    "                \"strict\": True\n",
    "            }\n",
    "        },\n",
    "        \"notifications\": [\n",
    "            {\"email\": \"user@domain.com\"},\n",
    "            {\"email\": \"user2@domain2.com\"}\n",
    "        ],\n",
    "        \"ownership\": \"user1\",\n",
    "        \"creation_date\": \"20240522T00:00:00Z\",\n",
    "        \"archived_date\": \"0\",\n",
    "        \"status\": \"up\",\n",
    "        \"state\": \"enabled\",\n",
    "        \"counters_location\": \"https://my.aw-sdx.net/l2vpn/7cdf23e8978c\",\n",
    "        \"last_modified\": \"0\",\n",
    "        \"current_path\": [\"urn:sdx:link:tenet.ac.za:LinkToAmpath\"],\n",
    "        \"oxp_service_ids\": {\"ampath.net\": [\"c73da8e1\"], \"Tenet.ac.za\": [\"5d034620\"]}\n",
    "    },\n",
    "    \"fa2c99ca-30a9-4b51-8491-683c52e326a6\": {\n",
    "        \"service_id\": \"fa2c99ca-30a9-4b51-8491-683c52e326a6\",\n",
    "        \"name\": \"Example 2\",\n",
    "        \"endpoints\": [\n",
    "            {\"port_id\": \"urn:sdx:port:tenet.ac.za:Tenet03:50\", \"vlan\": \"3500\"},\n",
    "            {\"port_id\": \"urn:sdx:port:sax.br:router_01:50\", \"vlan\": \"3500\"},\n",
    "            {\"port_id\": \"urn:sdx:port:ampath.net:Ampath3:50\", \"vlan\": \"3500\"}\n",
    "        ],\n",
    "        \"ownership\": \"user2\",\n",
    "        \"creation_date\": \"20240422T00:00:00Z\",\n",
    "        \"archived_date\": \"0\",\n",
    "        \"status\": \"up\",\n",
    "        \"state\": \"disabled\",\n",
    "        \"counters_location\": \"https://my.aw-sdx.net/l2vpn/52e326a6\",\n",
    "        \"last_modified\": \"0\",\n",
    "        \"current_path\": [\n",
    "            \"urn:sdx:link:tenet.ac.za:LinkToSAX\",\n",
    "            \"urn:sdx:link:tenet.ac.za:LinkToAmpath\",\n",
    "            \"urn:sdx:link:ampath.net:LinkToSAX\"\n",
    "        ],\n",
    "        \"oxp_service_ids\": {\n",
    "            \"ampath.net\": [\"d82da7f9\"],\n",
    "            \"tenet.ac.za\": [\"ab034673\"],\n",
    "            \"sax.br\": [\"bb834633\"]\n",
    "        }\n",
    "    }\n",
    "}\n",
    "\n",
    "# Define a mock response for one or more archived L2VPNs\n",
    "mock_response_archived_l2vpns_exist = {\n",
    "    \"c73da8e1-5d03-4620-a1db-7cdf23e8978c\": {\n",
    "        \"service_id\": \"c73da8e1-5d03-4620-a1db-7cdf23e8978c\",\n",
    "        \"name\": \"VLAN between AMPATH/300 and TENET/150\",\n",
    "        \"endpoints\": [\n",
    "            {\"port_id\": \"urn:sdx:port:tenet.ac.za:Tenet03:50\", \"vlan\": \"150\"},\n",
    "            {\"port_id\": \"urn:sdx:port:ampath.net:Ampath3:50\", \"vlan\": \"300\"}\n",
    "        ],\n",
    "        \"description\": \"Example 1\",\n",
    "        \"qos_metrics\": {\n",
    "            \"min_bw\": {\n",
    "                \"value\": 5,\n",
    "                \"strict\": False\n",
    "            },\n",
    "            \"max_delay\": {\n",
    "                \"value\": 150,\n",
    "                \"strict\": True\n",
    "            }\n",
    "        },\n",
    "        \"notifications\": [\n",
    "            {\"email\": \"user@domain.com\"},\n",
    "            {\"email\": \"user2@domain2.com\"}\n",
    "        ],\n",
    "        \"ownership\": \"user1\",\n",
    "        \"creation_date\": \"2024-05-22T00:00:00Z\",\n",
    "        \"archived_date\": \"2024-06-16T19:20:30Z\",\n",
    "        \"status\": \"up\",\n",
    "        \"state\": \"enabled\",\n",
    "        \"counters_location\": \"https://my.aw-sdx.net/l2vpn/7cdf23e8978c\",\n",
    "        \"last_modified\": \"0\",\n",
    "        \"current_path\": [\"urn:sdx:link:tenet.ac.za:LinkToAmpath\"],\n",
    "        \"oxp_service_ids\": {\"ampath.net\": [\"c73da8e1\"], \"Tenet.ac.za\": [\"5d034620\"]}\n",
    "    },\n",
    "    \"fa2c99ca-30a9-4b51-8491-683c52e326a6\": {\n",
    "        \"service_id\": \"fa2c99ca-30a9-4b51-8491-683c52e326a6\",\n",
    "        \"name\": \"Example 2\",\n",
    "        \"endpoints\": [\n",
    "            {\"port_id\": \"urn:sdx:port:tenet.ac.za:Tenet03:50\", \"vlan\": \"3500\"},\n",
    "            {\"port_id\": \"urn:sdx:port:sax.br:router_01:50\", \"vlan\": \"3500\"},\n",
    "            {\"port_id\": \"urn:sdx:port:ampath.net:Ampath3:50\", \"vlan\": \"3500\"}\n",
    "        ],\n",
    "        \"ownership\": \"user2\",\n",
    "        \"creation_date\": \"2024-05-22T00:00:00Z\",\n",
    "        \"archived_date\": \"2024-06-16T19:20:30Z\",\n",
    "        \"status\": \"up\",\n",
    "        \"state\": \"disabled\",\n",
    "        \"counters_location\": \"https://my.aw-sdx.net/l2vpn/52e326a6\",\n",
    "        \"last_modified\": \"0\",\n",
    "        \"current_path\": [\n",
    "            \"urn:sdx:link:tenet.ac.za:LinkToSAX\",\n",
    "            \"urn:sdx:link:tenet.ac.za:LinkToAmpath\",\n",
    "            \"urn:sdx:link:ampath.net:LinkToSAX\"\n",
    "        ],\n",
    "        \"oxp_service_ids\": {\n",
    "            \"ampath.net\": [\"d82da7f9\"],\n",
    "            \"tenet.ac.za\": [\"ab034673\"],\n",
    "            \"sax.br\": [\"bb834633\"]\n",
    "        }\n",
    "    }\n",
    "}"
   ]
  },
  {
   "cell_type": "code",
   "execution_count": 15,
   "id": "e19b10bb",
   "metadata": {},
   "outputs": [],
   "source": [
    "client = SDXClient(url)"
   ]
  },
  {
   "cell_type": "code",
   "execution_count": 16,
   "id": "df28154f",
   "metadata": {},
   "outputs": [
    {
     "name": "stderr",
     "output_type": "stream",
     "text": [
      "ERROR:root:Failed to retrieve L2VPN(s): Simulated network error\n"
     ]
    },
    {
     "name": "stdout",
     "output_type": "stream",
     "text": [
      "Failed to retrieve L2VPN(s): Simulated network error\n",
      "SDXException: \n"
     ]
    }
   ],
   "source": [
    "with requests_mock.Mocker() as mock_requests:\n",
    "    # Simulate a RequestException (e.g., network error)\n",
    "    mock_requests.register_uri(\n",
    "        \"GET\", f\"{url}/l2vpn/{client.VERSION}/2024-06-16T19:20:30Z\",\n",
    "        exc=requests.RequestException(\"Simulated network error\")\n",
    "    )\n",
    "\n",
    "    # Call the get_all_l2vpns method\n",
    "    try:\n",
    "        response = client.get_all_l2vpns(\"2024-06-16T19:20:30Z\")\n",
    "        print(\"Get All L2VPNs (RequestException):\")\n",
    "        pprint(response)\n",
    "    except SDXException as e:\n",
    "        print(\"SDXException:\", e)"
   ]
  },
  {
   "cell_type": "code",
   "execution_count": 17,
   "id": "cc74871f",
   "metadata": {},
   "outputs": [
    {
     "name": "stdout",
     "output_type": "stream",
     "text": [
      "Get All L2VPNs (No L2VPNs exist): {}\n"
     ]
    }
   ],
   "source": [
    "# Mock the get_all_l2vpns method\n",
    "with requests_mock.Mocker() as mock_requests:\n",
    "    # Mock response for no L2VPNs existing\n",
    "    mock_requests.register_uri(\n",
    "        \"GET\", f\"{url}/l2vpn/{client.VERSION}/0\",\n",
    "        json=mock_response_no_l2vpns,\n",
    "        status_code=200\n",
    "    )\n",
    "    \n",
    "    # Call the get_all_l2vpns method\n",
    "    try:\n",
    "        response = client.get_all_l2vpns()\n",
    "        print(\"Get All L2VPNs (No L2VPNs exist):\", response)\n",
    "    except SDXException as e:\n",
    "        print(\"SDXException:\", e)"
   ]
  },
  {
   "cell_type": "code",
   "execution_count": 18,
   "id": "81be58f2",
   "metadata": {},
   "outputs": [
    {
     "name": "stdout",
     "output_type": "stream",
     "text": [
      "Get All L2VPNs (One or more L2VPNs exist):\n",
      "{'c73da8e1-5d03-4620-a1db-7cdf23e8978c': {'archived_date': '0',\n",
      "                                          'counters_location': 'https://my.aw-sdx.net/l2vpn/7cdf23e8978c',\n",
      "                                          'creation_date': '20240522T00:00:00Z',\n",
      "                                          'current_path': ['urn:sdx:link:tenet.ac.za:LinkToAmpath'],\n",
      "                                          'description': 'Example 1',\n",
      "                                          'endpoints': [{'port_id': 'urn:sdx:port:tenet.ac.za:Tenet03:50',\n",
      "                                                         'vlan': '150'},\n",
      "                                                        {'port_id': 'urn:sdx:port:ampath.net:Ampath3:50',\n",
      "                                                         'vlan': '300'}],\n",
      "                                          'last_modified': '0',\n",
      "                                          'name': 'VLAN between AMPATH/300 and '\n",
      "                                                  'TENET/150',\n",
      "                                          'notifications': [{'email': 'user@domain.com'},\n",
      "                                                            {'email': 'user2@domain2.com'}],\n",
      "                                          'ownership': 'user1',\n",
      "                                          'oxp_service_ids': {'Tenet.ac.za': ['5d034620'],\n",
      "                                                              'ampath.net': ['c73da8e1']},\n",
      "                                          'qos_metrics': {'max_delay': {'strict': True,\n",
      "                                                                        'value': 150},\n",
      "                                                          'min_bw': {'strict': False,\n",
      "                                                                     'value': 5}},\n",
      "                                          'service_id': 'c73da8e1-5d03-4620-a1db-7cdf23e8978c',\n",
      "                                          'state': 'enabled',\n",
      "                                          'status': 'up'},\n",
      " 'fa2c99ca-30a9-4b51-8491-683c52e326a6': {'archived_date': '0',\n",
      "                                          'counters_location': 'https://my.aw-sdx.net/l2vpn/52e326a6',\n",
      "                                          'creation_date': '20240422T00:00:00Z',\n",
      "                                          'current_path': ['urn:sdx:link:tenet.ac.za:LinkToSAX',\n",
      "                                                           'urn:sdx:link:tenet.ac.za:LinkToAmpath',\n",
      "                                                           'urn:sdx:link:ampath.net:LinkToSAX'],\n",
      "                                          'endpoints': [{'port_id': 'urn:sdx:port:tenet.ac.za:Tenet03:50',\n",
      "                                                         'vlan': '3500'},\n",
      "                                                        {'port_id': 'urn:sdx:port:sax.br:router_01:50',\n",
      "                                                         'vlan': '3500'},\n",
      "                                                        {'port_id': 'urn:sdx:port:ampath.net:Ampath3:50',\n",
      "                                                         'vlan': '3500'}],\n",
      "                                          'last_modified': '0',\n",
      "                                          'name': 'Example 2',\n",
      "                                          'ownership': 'user2',\n",
      "                                          'oxp_service_ids': {'ampath.net': ['d82da7f9'],\n",
      "                                                              'sax.br': ['bb834633'],\n",
      "                                                              'tenet.ac.za': ['ab034673']},\n",
      "                                          'service_id': 'fa2c99ca-30a9-4b51-8491-683c52e326a6',\n",
      "                                          'state': 'disabled',\n",
      "                                          'status': 'up'}}\n"
     ]
    }
   ],
   "source": [
    "with requests_mock.Mocker() as mock_requests:\n",
    "    # Mock response for one or more L2VPNs existing\n",
    "    mock_requests.register_uri(\n",
    "        \"GET\", f\"{url}/l2vpn/{client.VERSION}/0\",\n",
    "        json=mock_response_l2vpns_exist,\n",
    "        status_code=200\n",
    "    )\n",
    "    \n",
    "    # Call the get_all_l2vpns method\n",
    "    try:\n",
    "        response = client.get_all_l2vpns()\n",
    "        print(\"Get All L2VPNs (One or more L2VPNs exist):\")\n",
    "        pprint(response)\n",
    "    except SDXException as e:\n",
    "        print(\"SDXException:\", e)"
   ]
  },
  {
   "cell_type": "code",
   "execution_count": 19,
   "id": "9d540271",
   "metadata": {},
   "outputs": [
    {
     "name": "stdout",
     "output_type": "stream",
     "text": [
      "Get All L2VPNs (One or more L2VPNs exist):\n",
      "{'c73da8e1-5d03-4620-a1db-7cdf23e8978c': {'archived_date': '2024-06-16T19:20:30Z',\n",
      "                                          'counters_location': 'https://my.aw-sdx.net/l2vpn/7cdf23e8978c',\n",
      "                                          'creation_date': '2024-05-22T00:00:00Z',\n",
      "                                          'current_path': ['urn:sdx:link:tenet.ac.za:LinkToAmpath'],\n",
      "                                          'description': 'Example 1',\n",
      "                                          'endpoints': [{'port_id': 'urn:sdx:port:tenet.ac.za:Tenet03:50',\n",
      "                                                         'vlan': '150'},\n",
      "                                                        {'port_id': 'urn:sdx:port:ampath.net:Ampath3:50',\n",
      "                                                         'vlan': '300'}],\n",
      "                                          'last_modified': '0',\n",
      "                                          'name': 'VLAN between AMPATH/300 and '\n",
      "                                                  'TENET/150',\n",
      "                                          'notifications': [{'email': 'user@domain.com'},\n",
      "                                                            {'email': 'user2@domain2.com'}],\n",
      "                                          'ownership': 'user1',\n",
      "                                          'oxp_service_ids': {'Tenet.ac.za': ['5d034620'],\n",
      "                                                              'ampath.net': ['c73da8e1']},\n",
      "                                          'qos_metrics': {'max_delay': {'strict': True,\n",
      "                                                                        'value': 150},\n",
      "                                                          'min_bw': {'strict': False,\n",
      "                                                                     'value': 5}},\n",
      "                                          'service_id': 'c73da8e1-5d03-4620-a1db-7cdf23e8978c',\n",
      "                                          'state': 'enabled',\n",
      "                                          'status': 'up'},\n",
      " 'fa2c99ca-30a9-4b51-8491-683c52e326a6': {'archived_date': '2024-06-16T19:20:30Z',\n",
      "                                          'counters_location': 'https://my.aw-sdx.net/l2vpn/52e326a6',\n",
      "                                          'creation_date': '2024-05-22T00:00:00Z',\n",
      "                                          'current_path': ['urn:sdx:link:tenet.ac.za:LinkToSAX',\n",
      "                                                           'urn:sdx:link:tenet.ac.za:LinkToAmpath',\n",
      "                                                           'urn:sdx:link:ampath.net:LinkToSAX'],\n",
      "                                          'endpoints': [{'port_id': 'urn:sdx:port:tenet.ac.za:Tenet03:50',\n",
      "                                                         'vlan': '3500'},\n",
      "                                                        {'port_id': 'urn:sdx:port:sax.br:router_01:50',\n",
      "                                                         'vlan': '3500'},\n",
      "                                                        {'port_id': 'urn:sdx:port:ampath.net:Ampath3:50',\n",
      "                                                         'vlan': '3500'}],\n",
      "                                          'last_modified': '0',\n",
      "                                          'name': 'Example 2',\n",
      "                                          'ownership': 'user2',\n",
      "                                          'oxp_service_ids': {'ampath.net': ['d82da7f9'],\n",
      "                                                              'sax.br': ['bb834633'],\n",
      "                                                              'tenet.ac.za': ['ab034673']},\n",
      "                                          'service_id': 'fa2c99ca-30a9-4b51-8491-683c52e326a6',\n",
      "                                          'state': 'disabled',\n",
      "                                          'status': 'up'}}\n"
     ]
    }
   ],
   "source": [
    "with requests_mock.Mocker() as mock_requests:\n",
    "    # Mock response for one or more L2VPNs existing\n",
    "    mock_requests.register_uri(\n",
    "        \"GET\", f\"{url}/l2vpn/{client.VERSION}/2024-06-16T19:20:30Z\",\n",
    "        json=mock_response_archived_l2vpns_exist,\n",
    "        status_code=200\n",
    "    )\n",
    "    \n",
    "    # Call the get_all_l2vpns method\n",
    "    try:\n",
    "        response = client.get_all_l2vpns(\"2024-06-16T19:20:30Z\")\n",
    "        print(\"Get All L2VPNs (One or more L2VPNs exist):\")\n",
    "        pprint(response)\n",
    "    except SDXException as e:\n",
    "        print(\"SDXException:\", e)"
   ]
  },
  {
   "cell_type": "markdown",
   "id": "36b3f5a1",
   "metadata": {},
   "source": [
    "# Retrieve a Specific L2VPN"
   ]
  },
  {
   "cell_type": "code",
   "execution_count": 20,
   "id": "04de836b",
   "metadata": {},
   "outputs": [],
   "source": [
    "# Define a mock response for one or more L2VPNs existing\n",
    "mock_response_l2vpn_exists = {\n",
    "    \"c73da8e1-5d03-4620-a1db-7cdf23e8978c\": {\n",
    "        \"service_id\": \"c73da8e1-5d03-4620-a1db-7cdf23e8978c\",\n",
    "        \"name\": \"VLAN between AMPATH/300 and TENET/150\",\n",
    "        \"endpoints\": [\n",
    "            {\"port_id\": \"urn:sdx:port:tenet.ac.za:Tenet03:50\", \"vlan\": \"150\"},\n",
    "            {\"port_id\": \"urn:sdx:port:ampath.net:Ampath3:50\", \"vlan\": \"300\"}\n",
    "        ],\n",
    "        \"description\": \"Example 1\",\n",
    "        \"qos_metrics\": {\n",
    "            \"min_bw\": {\n",
    "                \"value\": 5,\n",
    "                \"strict\": False\n",
    "            },\n",
    "            \"max_delay\": {\n",
    "                \"value\": 150,\n",
    "                \"strict\": True\n",
    "            }\n",
    "        },\n",
    "        \"notifications\": [\n",
    "            {\"email\": \"user@domain.com\"},\n",
    "            {\"email\": \"user2@domain2.com\"}\n",
    "        ],\n",
    "        \"ownership\": \"user1\",\n",
    "        \"creation_date\": \"20240522T00:00:00Z\",\n",
    "        \"archived_date\": \"0\",\n",
    "        \"status\": \"up\",\n",
    "        \"state\": \"enabled\",\n",
    "        \"counters_location\": \"https://my.aw-sdx.net/l2vpn/7cdf23e8978c\",\n",
    "        \"last_modified\": \"0\",\n",
    "        \"current_path\": [\"urn:sdx:link:tenet.ac.za:LinkToAmpath\"],\n",
    "        \"oxp_service_ids\": {\"ampath.net\": [\"c73da8e1\"], \"Tenet.ac.za\": [\"5d034620\"]}\n",
    "    },\n",
    "}\n"
   ]
  },
  {
   "cell_type": "code",
   "execution_count": 21,
   "id": "7d706039",
   "metadata": {},
   "outputs": [],
   "source": [
    "client = SDXClient(url)"
   ]
  },
  {
   "cell_type": "code",
   "execution_count": 22,
   "id": "fcf01c2c",
   "metadata": {},
   "outputs": [
    {
     "name": "stdout",
     "output_type": "stream",
     "text": [
      "Get L2VPN (Successful):\n",
      "{'c73da8e1-5d03-4620-a1db-7cdf23e8978c': {'archived_date': '0',\n",
      "                                          'counters_location': 'https://my.aw-sdx.net/l2vpn/7cdf23e8978c',\n",
      "                                          'creation_date': '20240522T00:00:00Z',\n",
      "                                          'current_path': ['urn:sdx:link:tenet.ac.za:LinkToAmpath'],\n",
      "                                          'description': 'Example 1',\n",
      "                                          'endpoints': [{'port_id': 'urn:sdx:port:tenet.ac.za:Tenet03:50',\n",
      "                                                         'vlan': '150'},\n",
      "                                                        {'port_id': 'urn:sdx:port:ampath.net:Ampath3:50',\n",
      "                                                         'vlan': '300'}],\n",
      "                                          'last_modified': '0',\n",
      "                                          'name': 'VLAN between AMPATH/300 and '\n",
      "                                                  'TENET/150',\n",
      "                                          'notifications': [{'email': 'user@domain.com'},\n",
      "                                                            {'email': 'user2@domain2.com'}],\n",
      "                                          'ownership': 'user1',\n",
      "                                          'oxp_service_ids': {'Tenet.ac.za': ['5d034620'],\n",
      "                                                              'ampath.net': ['c73da8e1']},\n",
      "                                          'qos_metrics': {'max_delay': {'strict': True,\n",
      "                                                                        'value': 150},\n",
      "                                                          'min_bw': {'strict': False,\n",
      "                                                                     'value': 5}},\n",
      "                                          'service_id': 'c73da8e1-5d03-4620-a1db-7cdf23e8978c',\n",
      "                                          'state': 'enabled',\n",
      "                                          'status': 'up'}}\n"
     ]
    }
   ],
   "source": [
    "service_id = \"c73da8e1-5d03-4620-a1db-7cdf23e8978c\"\n",
    "\n",
    "with requests_mock.Mocker() as mock_requests:\n",
    "    # Simulate a RequestException (e.g., network error)\n",
    "    mock_requests.register_uri(\n",
    "        \"GET\", f\"{url}/l2vpn/{client.VERSION}/{service_id}\",\n",
    "        json=mock_response_l2vpn_exists,\n",
    "        status_code=200\n",
    "    )\n",
    "\n",
    "    # Call the get_all_l2vpns method\n",
    "    try:\n",
    "        response = client.get_l2vpn(service_id)\n",
    "        print(\"Get L2VPN (Successful):\")\n",
    "        pprint(response)\n",
    "    except SDXException as e:\n",
    "        print(\"SDXException:\", e)"
   ]
  },
  {
   "cell_type": "code",
   "execution_count": null,
   "id": "e0e242c1",
   "metadata": {},
   "outputs": [],
   "source": []
  },
  {
   "cell_type": "code",
   "execution_count": null,
   "id": "20a3e0cf",
   "metadata": {},
   "outputs": [],
   "source": []
  },
  {
   "cell_type": "code",
   "execution_count": null,
   "id": "b3457fdf",
   "metadata": {},
   "outputs": [],
   "source": []
  },
  {
   "cell_type": "code",
   "execution_count": null,
   "id": "c1536db4",
   "metadata": {},
   "outputs": [],
   "source": []
  },
  {
   "cell_type": "code",
   "execution_count": null,
   "id": "b18b75f5",
   "metadata": {},
   "outputs": [],
   "source": []
  }
 ],
 "metadata": {
  "kernelspec": {
   "display_name": "sdx311env",
   "language": "python",
   "name": "sdx311env"
  },
  "language_info": {
   "codemirror_mode": {
    "name": "ipython",
    "version": 3
   },
   "file_extension": ".py",
   "mimetype": "text/x-python",
   "name": "python",
   "nbconvert_exporter": "python",
   "pygments_lexer": "ipython3",
   "version": "3.11.9"
  }
 },
 "nbformat": 4,
 "nbformat_minor": 5
}
