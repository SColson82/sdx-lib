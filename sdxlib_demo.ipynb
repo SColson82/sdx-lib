{
 "cells": [
  {
   "cell_type": "code",
   "execution_count": 1,
   "id": "95b3b5a4",
   "metadata": {},
   "outputs": [],
   "source": [
    "import requests\n",
    "import requests_mock\n",
    "from sdxlib.sdx_client import SDXClient\n",
    "from sdxlib.sdx_exception import SDXException"
   ]
  },
  {
   "cell_type": "markdown",
   "id": "69097b34",
   "metadata": {},
   "source": [
    "# Creating L2VPN"
   ]
  },
  {
   "cell_type": "code",
   "execution_count": 2,
   "id": "56ac0f50",
   "metadata": {},
   "outputs": [],
   "source": [
    "# Define a mock response dictionaries for each of the required scenarios\n",
    "\n",
    "# Successful object creation\n",
    "mock_response_successful = {\n",
    "    \"service_id\": \"123e4567-e89b-12d3-a456-426614174000\",\n",
    "}\n",
    "\n",
    "# Error Codes for SDXExceptions\n",
    "mock_response_unsuccessful_400 = {\n",
    "    \"400\": \"Request does not have a valid JSON or body is incomplete/incorrect\"\n",
    "}\n",
    "mock_response_unsuccessful_401 = {\n",
    "    \"401\": \"Not Authorized\"\n",
    "}\n",
    "mock_response_unsuccessful_402 = {\n",
    "    \"402\": \"Request not compatible (e.g., P2MP L2VPN requested, but only P2P supported)\"\n",
    "}\n",
    "mock_response_unsuccessful_409 = {\n",
    "    \"409\": \"L2VPN Service already exists\"\n",
    "}\n",
    "mock_response_unsuccessful_410 = {\n",
    "    \"410\": \"Can't fulfill the strict QoS requirements\"\n",
    "}\n",
    "mock_response_unsuccessful_411 = {\n",
    "    \"411\": \"Scheduling not possible\"\n",
    "}\n",
    "mock_response_unsuccessful_422 = {\n",
    "    \"422\": \"Attribute not supported by the SDX-LC/OXPO\"\n",
    "}"
   ]
  },
  {
   "cell_type": "code",
   "execution_count": 3,
   "id": "7d50a9ef",
   "metadata": {},
   "outputs": [],
   "source": [
    "# Define the required attributes\n",
    "url = \"http://example.com\"\n",
    "client_name = \"Test L2VPN\"\n",
    "client_endpoints = [\n",
    "    {\"port_id\": \"urn:sdx:port:sax.br:Rtr01:50\", \"vlan\": \"any\"},\n",
    "    {\"port_id\": \"urn:sdx:port:ampath.net:Ampath3:50\", \"vlan\": \"any\"}\n",
    "]"
   ]
  },
  {
   "cell_type": "code",
   "execution_count": 4,
   "id": "f9252bc4",
   "metadata": {},
   "outputs": [],
   "source": [
    "# Create the L2VPN object\n",
    "client = SDXClient(url, client_name, client_endpoints)"
   ]
  },
  {
   "cell_type": "code",
   "execution_count": 5,
   "id": "14d4705a",
   "metadata": {},
   "outputs": [
    {
     "data": {
      "text/plain": [
       "SDXClient(base_url=http://example.com, name=Test L2VPN, endpoints=[{'port_id': 'urn:sdx:port:sax.br:Rtr01:50', 'vlan': 'any'}, {'port_id': 'urn:sdx:port:ampath.net:Ampath3:50', 'vlan': 'any'}])"
      ]
     },
     "execution_count": 5,
     "metadata": {},
     "output_type": "execute_result"
    }
   ],
   "source": [
    "client"
   ]
  },
  {
   "cell_type": "code",
   "execution_count": 6,
   "id": "772993eb",
   "metadata": {},
   "outputs": [
    {
     "name": "stdout",
     "output_type": "stream",
     "text": [
      "Mock for request exception set with URL: http://example.com/l2vpn/1.0\n",
      "L2VPN creation request sent to http://example.com/l2vpn/1.0. It may take several seconds to receive a response.\n",
      "Mocked server response:\n",
      " {\"422\": \"Attribute not supported by the SDX-LC/OXPO\"}\n",
      "L2VPN creation failed: Attribute not supported by the SDX-LC/OXPO\n"
     ]
    }
   ],
   "source": [
    "# Create a mocker for requests for the unsuccessful case\n",
    "with requests_mock.Mocker() as mock_requests:\n",
    "    # Mock unsuccessful L2VPN creation\n",
    "    mock_requests.register_uri(\n",
    "        \"POST\", f\"{url}/l2vpn/1.0\",\n",
    "        json=mock_response_unsuccessful_422,\n",
    "        status_code=422  # Set status code for unsuccessful creation\n",
    "    )\n",
    "    \n",
    "    # Debug print to verify the mock setup\n",
    "    print(f\"Mock for request exception set with URL: {url}/l2vpn/1.0\")\n",
    "\n",
    "    try:\n",
    "        response = client.create_l2vpn()  \n",
    "        print(\"Request successful.\")\n",
    "    except SDXException as e:\n",
    "        print(f\"L2VPN creation failed: {e}\")  "
   ]
  },
  {
   "cell_type": "code",
   "execution_count": 7,
   "id": "4e580691",
   "metadata": {},
   "outputs": [
    {
     "name": "stderr",
     "output_type": "stream",
     "text": [
      "An error occurred while creating L2VPN: Connection error\n"
     ]
    },
    {
     "name": "stdout",
     "output_type": "stream",
     "text": [
      "Mock for request exception set with URL: http://example.com/l2vpn/1.0\n",
      "L2VPN creation request sent to http://example.com/l2vpn/1.0. It may take several seconds to receive a response.\n",
      "An error occurred while creating L2VPN: Connection error\n",
      "L2VPN creation failed: An error occurred while creating L2VPN: Connection error\n"
     ]
    }
   ],
   "source": [
    "# Create a mocker for requests to simulate a RequestException\n",
    "with requests_mock.Mocker() as mock_requests:\n",
    "    # Mock a request exception scenario (e.g., connection error)\n",
    "    mock_requests.register_uri(\n",
    "        \"POST\", f\"{url}/l2vpn/1.0\",\n",
    "        exc=requests.exceptions.RequestException(\"Connection error\")\n",
    "    )\n",
    "    \n",
    "    # Debug print to verify the mock setup\n",
    "    print(f\"Mock for request exception set with URL: {url}/l2vpn/1.0\")\n",
    "\n",
    "    try:\n",
    "        response = client.create_l2vpn()  \n",
    "    except SDXException as e:\n",
    "        print(f\"L2VPN creation failed: {e}\")  \n",
    "    except requests.exceptions.RequestException as e:\n",
    "        print(f\"Request exception occurred: {e}\")  "
   ]
  },
  {
   "cell_type": "code",
   "execution_count": 8,
   "id": "5a1e52ac",
   "metadata": {},
   "outputs": [
    {
     "name": "stdout",
     "output_type": "stream",
     "text": [
      "Mocking URL: http://example.com/l2vpn/1.0\n",
      "L2VPN creation request sent to http://example.com/l2vpn/1.0. It may take several seconds to receive a response.\n",
      "L2VPN creation successful!\n",
      "Response: {'service_id': '123e4567-e89b-12d3-a456-426614174000'}\n"
     ]
    }
   ],
   "source": [
    "# Create a mocker for requests\n",
    "with requests_mock.Mocker() as mock_requests:\n",
    "    # Mock successful L2VPN creation\n",
    "    mock_requests.register_uri(\n",
    "        \"POST\", f\"{url}/l2vpn/1.0\", \n",
    "        json=mock_response_successful,\n",
    "        status_code=201  # Set status code for successful creation\n",
    "    )\n",
    "    \n",
    "    # Adding debug statement to confirm URL and method\n",
    "    print(f\"Mocking URL: {url}/l2vpn/1.0\")\n",
    "\n",
    "    try:\n",
    "        response = client.create_l2vpn()  \n",
    "        print(\"L2VPN creation successful!\")\n",
    "        print(f\"Response: {response}\")  \n",
    "    except SDXException as e:\n",
    "        print(f\"L2VPN creation failed: {e}\")  "
   ]
  },
  {
   "cell_type": "markdown",
   "id": "3adad53e",
   "metadata": {},
   "source": [
    "# Update L2VPNs"
   ]
  },
  {
   "cell_type": "code",
   "execution_count": 9,
   "id": "1b861095",
   "metadata": {},
   "outputs": [],
   "source": [
    "# Mock successful response\n",
    "mock_response = {\n",
    "    \"service_id\": \"123e4567-e89b-12d3-a456-426614174000\",\n",
    "    \"description\": \"L2VPN Service Modified\"\n",
    "}"
   ]
  },
  {
   "cell_type": "code",
   "execution_count": 10,
   "id": "c340a20c",
   "metadata": {},
   "outputs": [],
   "source": [
    "# Define your SDXClient instance with mock URL and initial configuration\n",
    "url = \"http://example.com\"\n",
    "client_name = \"Test L2VPN\"\n",
    "client_endpoints = [\n",
    "    {\"port_id\": \"urn:sdx:port:sax.br:Rtr01:50\", \"vlan\": \"any\"},\n",
    "    {\"port_id\": \"urn:sdx:port:ampath.net:Ampath3:50\", \"vlan\": \"any\"}\n",
    "]"
   ]
  },
  {
   "cell_type": "code",
   "execution_count": 11,
   "id": "80dcef66",
   "metadata": {},
   "outputs": [],
   "source": [
    "# Create the SDXClient instance\n",
    "client = SDXClient(url, client_name, client_endpoints)"
   ]
  },
  {
   "cell_type": "code",
   "execution_count": 12,
   "id": "ec5b1d9e",
   "metadata": {},
   "outputs": [
    {
     "name": "stdout",
     "output_type": "stream",
     "text": [
      "http://example.com/l2vpn/1.0/123e4567-e89b-12d3-a456-426614174000\n",
      "SDXException: L2VPN Service ID not found\n"
     ]
    }
   ],
   "source": [
    "# Example update_l2vpn scenario with requests_mock\n",
    "with requests_mock.Mocker() as m:\n",
    "\n",
    "    # Mock endpoint URL\n",
    "    mock_url = f\"{url}/l2vpn/{client.VERSION}/123e4567-e89b-12d3-a456-426614174000\"\n",
    "    \n",
    "    # Example for handling other status codes if needed\n",
    "    m.patch(mock_url, status_code=404)  # Mocking 404 response\n",
    "    \n",
    "    try:\n",
    "        response = client.update_l2vpn(\"123e4567-e89b-12d3-a456-426614174000\", \"state\", \"enabled\")\n",
    "        print(\"Update Successful:\", response)\n",
    "    except SDXException as e:\n",
    "        print(\"SDXException:\", e)\n",
    "    except Exception as e:\n",
    "        print(\"Exception:\", e)"
   ]
  },
  {
   "cell_type": "code",
   "execution_count": 13,
   "id": "585c747c",
   "metadata": {},
   "outputs": [
    {
     "name": "stdout",
     "output_type": "stream",
     "text": [
      "http://example.com/l2vpn/1.0/123e4567-e89b-12d3-a456-426614174000\n",
      "Update Successful: {'service_id': '123e4567-e89b-12d3-a456-426614174000', 'description': 'L2VPN Service Modified'}\n"
     ]
    }
   ],
   "source": [
    "# Example update_l2vpn scenario with requests_mock\n",
    "with requests_mock.Mocker() as m:\n",
    "\n",
    "    # Mock endpoint URL\n",
    "    mock_url = f\"{url}/l2vpn/{client.VERSION}/123e4567-e89b-12d3-a456-426614174000\"\n",
    "    \n",
    "    # Register mock response for patch request\n",
    "    m.patch(mock_url, json=mock_response, status_code=200)\n",
    "    \n",
    "    # Call the update_l2vpn method\n",
    "    try:\n",
    "        response = client.update_l2vpn(\"123e4567-e89b-12d3-a456-426614174000\", \"state\", \"enabled\")\n",
    "        print(\"Update Successful:\", response)\n",
    "    except SDXException as e:\n",
    "        print(\"SDXException:\", e)\n",
    "    except Exception as e:\n",
    "        print(\"Exception:\", e)\n"
   ]
  },
  {
   "cell_type": "markdown",
   "id": "4caa34db",
   "metadata": {},
   "source": [
    "# Retrieve L2VPNs"
   ]
  },
  {
   "cell_type": "code",
   "execution_count": null,
   "id": "d12826e3",
   "metadata": {},
   "outputs": [],
   "source": []
  },
  {
   "cell_type": "code",
   "execution_count": null,
   "id": "c2cf0913",
   "metadata": {},
   "outputs": [],
   "source": []
  },
  {
   "cell_type": "code",
   "execution_count": null,
   "id": "cc74871f",
   "metadata": {},
   "outputs": [],
   "source": []
  }
 ],
 "metadata": {
  "kernelspec": {
   "display_name": "sdx311env",
   "language": "python",
   "name": "sdx311env"
  },
  "language_info": {
   "codemirror_mode": {
    "name": "ipython",
    "version": 3
   },
   "file_extension": ".py",
   "mimetype": "text/x-python",
   "name": "python",
   "nbconvert_exporter": "python",
   "pygments_lexer": "ipython3",
   "version": "3.11.9"
  }
 },
 "nbformat": 4,
 "nbformat_minor": 5
}
