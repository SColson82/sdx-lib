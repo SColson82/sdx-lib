{
 "cells": [
  {
   "cell_type": "code",
   "execution_count": 1,
   "id": "95b3b5a4",
   "metadata": {},
   "outputs": [],
   "source": [
    "import requests\n",
    "import requests_mock\n",
    "from sdxlib.client import SDXClient, SDXException"
   ]
  },
  {
   "cell_type": "code",
   "execution_count": 2,
   "id": "56ac0f50",
   "metadata": {},
   "outputs": [],
   "source": [
    "# Define a mock response dictionary for successful L2VPN creation\n",
    "mock_response_successful = {\n",
    "    \"service_id\": \"12345\",\n",
    "}\n",
    "mock_response_unsuccessful = {\n",
    "    \"description\": \"description of failure\"\n",
    "}"
   ]
  },
  {
   "cell_type": "code",
   "execution_count": 3,
   "id": "7d50a9ef",
   "metadata": {},
   "outputs": [],
   "source": [
    "url = \"https://example.com\"\n",
    "client_name = \"Test L2VPN\"\n",
    "client_endpoints = [\n",
    "    {\"port_id\": \"urn:sdx:port:sax.br:Rtr01:50\", \"vlan\": \"any\"},\n",
    "    {\"port_id\": \"urn:sdx:port:ampath.net:Ampath3:50\", \"vlan\": \"any\"}\n",
    "]"
   ]
  },
  {
   "cell_type": "code",
   "execution_count": 4,
   "id": "f9252bc4",
   "metadata": {},
   "outputs": [],
   "source": [
    "client = SDXClient(url, client_name, client_endpoints)"
   ]
  },
  {
   "cell_type": "code",
   "execution_count": 5,
   "id": "14d4705a",
   "metadata": {},
   "outputs": [
    {
     "data": {
      "text/plain": [
       "SDXClient(base_url=https://example.com, name=Test L2VPN, endpoints=[{'port_id': 'urn:sdx:port:sax.br:Rtr01:50', 'vlan': 'any'}, {'port_id': 'urn:sdx:port:ampath.net:Ampath3:50', 'vlan': 'any'}])"
      ]
     },
     "execution_count": 5,
     "metadata": {},
     "output_type": "execute_result"
    }
   ],
   "source": [
    "client"
   ]
  },
  {
   "cell_type": "code",
   "execution_count": 6,
   "id": "07f29483",
   "metadata": {},
   "outputs": [
    {
     "name": "stdout",
     "output_type": "stream",
     "text": [
      "L2VPN creation request sent to https://example.com/l2vpn/1.0. It may take several seconds to receive a response.\n",
      "L2VPN creation successful!\n",
      "Response: {'service_id': '12345'}\n"
     ]
    }
   ],
   "source": [
    "# Create a mocker for requests\n",
    "with requests_mock.Mocker() as mock_requests:\n",
    "    # Mock successful L2VPN creation\n",
    "    mock_requests.register_uri(\n",
    "        \"POST\", f\"{url}/l2vpn/1.0\", \n",
    "        json=mock_response_successful,\n",
    "        status_code=201  # Set status code for successful creation\n",
    "    )\n",
    "    \n",
    "    # Adding debug statement to confirm URL and method\n",
    "    #print(f\"Mocking URL: {url}/l2vpn/1.0\")\n",
    "\n",
    "    try:\n",
    "        response = client.create_l2vpn()  # Assuming create_l2vpn doesn't take arguments\n",
    "        print(\"L2VPN creation successful!\")\n",
    "        print(f\"Response: {response}\")  # Print the mocked response (service_id in this case)\n",
    "    except SDXException as e:\n",
    "        print(f\"L2VPN creation failed: {e}\")  # Handle potential exceptions\n"
   ]
  },
  {
   "cell_type": "code",
   "execution_count": null,
   "id": "9859bd90",
   "metadata": {},
   "outputs": [],
   "source": []
  },
  {
   "cell_type": "code",
   "execution_count": null,
   "id": "6819a8a3",
   "metadata": {},
   "outputs": [],
   "source": []
  },
  {
   "cell_type": "code",
   "execution_count": null,
   "id": "3215d722",
   "metadata": {},
   "outputs": [],
   "source": []
  },
  {
   "cell_type": "code",
   "execution_count": null,
   "id": "a2b79cc3",
   "metadata": {},
   "outputs": [],
   "source": []
  },
  {
   "cell_type": "code",
   "execution_count": null,
   "id": "96a898a7",
   "metadata": {},
   "outputs": [],
   "source": []
  },
  {
   "cell_type": "code",
   "execution_count": null,
   "id": "53c94d5d",
   "metadata": {},
   "outputs": [],
   "source": []
  },
  {
   "cell_type": "code",
   "execution_count": null,
   "id": "1a008173",
   "metadata": {},
   "outputs": [],
   "source": []
  },
  {
   "cell_type": "code",
   "execution_count": null,
   "id": "3941f31b",
   "metadata": {},
   "outputs": [],
   "source": []
  },
  {
   "cell_type": "code",
   "execution_count": null,
   "id": "cc74871f",
   "metadata": {},
   "outputs": [],
   "source": [
    "# Disable Mocks\n",
    "mock_requests.clear()"
   ]
  }
 ],
 "metadata": {
  "kernelspec": {
   "display_name": "sdx311env",
   "language": "python",
   "name": "sdx311env"
  },
  "language_info": {
   "codemirror_mode": {
    "name": "ipython",
    "version": 3
   },
   "file_extension": ".py",
   "mimetype": "text/x-python",
   "name": "python",
   "nbconvert_exporter": "python",
   "pygments_lexer": "ipython3",
   "version": "3.11.9"
  }
 },
 "nbformat": 4,
 "nbformat_minor": 5
}
