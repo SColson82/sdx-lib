{
 "cells": [
  {
   "cell_type": "code",
   "execution_count": 1,
   "id": "95b3b5a4",
   "metadata": {},
   "outputs": [],
   "source": [
    "import requests\n",
    "import requests_mock\n",
    "from sdxlib.client import SDXClient, SDXException"
   ]
  },
  {
   "cell_type": "markdown",
   "id": "b8d2ec49",
   "metadata": {},
   "source": [
    "# Creating L2VPN"
   ]
  },
  {
   "cell_type": "code",
   "execution_count": 2,
   "id": "56ac0f50",
   "metadata": {},
   "outputs": [],
   "source": [
    "# Define a mock response dictionaries for each of the required scenarios\n",
    "\n",
    "# Successful object creation\n",
    "mock_response_successful = {\n",
    "    \"service_id\": \"12345\",\n",
    "}\n",
    "\n",
    "# Error Codes for SDXExceptions\n",
    "mock_response_unsuccessful_400 = {\n",
    "    \"400\": \"Request does not have a valid JSON or body is incomplete/incorrect\"\n",
    "}\n",
    "mock_response_unsuccessful_401 = {\n",
    "    \"401\": \"Not Authorized\"\n",
    "}\n",
    "mock_response_unsuccessful_402 = {\n",
    "    \"402\": \"Request not compatible (e.g., P2MP L2VPN requested, but only P2P supported)\"\n",
    "}\n",
    "mock_response_unsuccessful_409 = {\n",
    "    \"409\": \"L2VPN Service already exists\"\n",
    "}\n",
    "mock_response_unsuccessful_410 = {\n",
    "    \"410\": \"Can't fulfill the strict QoS requirements\"\n",
    "}\n",
    "mock_response_unsuccessful_411 = {\n",
    "    \"411\": \"Scheduling not possible\"\n",
    "}\n",
    "mock_response_unsuccessful_422 = {\n",
    "    \"422\": \"Attribute not supported by the SDX-LC/OXPO\"\n",
    "}"
   ]
  },
  {
   "cell_type": "code",
   "execution_count": 3,
   "id": "7d50a9ef",
   "metadata": {},
   "outputs": [],
   "source": [
    "# Define the required attributes\n",
    "url = \"http://example.com\"\n",
    "client_name = \"Test L2VPN\"\n",
    "client_endpoints = [\n",
    "    {\"port_id\": \"urn:sdx:port:sax.br:Rtr01:50\", \"vlan\": \"any\"},\n",
    "    {\"port_id\": \"urn:sdx:port:ampath.net:Ampath3:50\", \"vlan\": \"any\"}\n",
    "]"
   ]
  },
  {
   "cell_type": "code",
   "execution_count": 4,
   "id": "f9252bc4",
   "metadata": {},
   "outputs": [],
   "source": [
    "# Create the L2VPN object\n",
    "client = SDXClient(url, client_name, client_endpoints)"
   ]
  },
  {
   "cell_type": "code",
   "execution_count": 5,
   "id": "14d4705a",
   "metadata": {},
   "outputs": [
    {
     "data": {
      "text/plain": [
       "SDXClient(base_url=http://example.com, name=Test L2VPN, endpoints=[{'port_id': 'urn:sdx:port:sax.br:Rtr01:50', 'vlan': 'any'}, {'port_id': 'urn:sdx:port:ampath.net:Ampath3:50', 'vlan': 'any'}])"
      ]
     },
     "execution_count": 5,
     "metadata": {},
     "output_type": "execute_result"
    }
   ],
   "source": [
    "client"
   ]
  },
  {
   "cell_type": "code",
   "execution_count": 6,
   "id": "ad6652d4",
   "metadata": {},
   "outputs": [
    {
     "name": "stdout",
     "output_type": "stream",
     "text": [
      "Mock for request exception set with URL: http://example.com/l2vpn/1.0\n",
      "L2VPN creation request sent to http://example.com/l2vpn/1.0. It may take several seconds to receive a response.\n",
      "Mocked server response:\n",
      " {\"422\": \"Attribute not supported by the SDX-LC/OXPO\"}\n",
      "L2VPN creation failed: Error 422\n"
     ]
    }
   ],
   "source": [
    "# Create a mocker for requests for the unsuccessful case\n",
    "with requests_mock.Mocker() as mock_requests:\n",
    "    # Mock unsuccessful L2VPN creation\n",
    "    mock_requests.register_uri(\n",
    "        \"POST\", f\"{url}/l2vpn/1.0\",\n",
    "        json=mock_response_unsuccessful_422,\n",
    "        status_code=422  # Set status code for unsuccessful creation\n",
    "    )\n",
    "    \n",
    "    # Debug print to verify the mock setup\n",
    "    print(f\"Mock for request exception set with URL: {url}/l2vpn/1.0\")\n",
    "\n",
    "    try:\n",
    "        response = client.create_l2vpn()  \n",
    "        print(\"Request successful.\")\n",
    "    except SDXException as e:\n",
    "        print(f\"L2VPN creation failed: {e}\")  "
   ]
  },
  {
   "cell_type": "code",
   "execution_count": 7,
   "id": "9a739eb8",
   "metadata": {},
   "outputs": [
    {
     "name": "stderr",
     "output_type": "stream",
     "text": [
      "An error occurred while creating L2VPN: Connection error\n"
     ]
    },
    {
     "name": "stdout",
     "output_type": "stream",
     "text": [
      "Mock for request exception set with URL: http://example.com/l2vpn/1.0\n",
      "L2VPN creation request sent to http://example.com/l2vpn/1.0. It may take several seconds to receive a response.\n",
      "An error occurred while creating L2VPN: Connection error\n"
     ]
    }
   ],
   "source": [
    "# Create a mocker for requests to simulate a RequestException\n",
    "with requests_mock.Mocker() as mock_requests:\n",
    "    # Mock a request exception scenario (e.g., connection error)\n",
    "    mock_requests.register_uri(\n",
    "        \"POST\", f\"{url}/l2vpn/1.0\",\n",
    "        exc=requests.exceptions.RequestException(\"Connection error\")\n",
    "    )\n",
    "    \n",
    "    # Debug print to verify the mock setup\n",
    "    print(f\"Mock for request exception set with URL: {url}/l2vpn/1.0\")\n",
    "\n",
    "    try:\n",
    "        response = client.create_l2vpn()  \n",
    "    except SDXException as e:\n",
    "        print(f\"L2VPN creation failed: {e}\")  \n",
    "    except requests.exceptions.RequestException as e:\n",
    "        print(f\"Request exception occurred: {e}\")  "
   ]
  },
  {
   "cell_type": "code",
   "execution_count": 8,
   "id": "c256c5ea",
   "metadata": {},
   "outputs": [
    {
     "name": "stdout",
     "output_type": "stream",
     "text": [
      "Mocking URL: http://example.com/l2vpn/1.0\n",
      "L2VPN creation request sent to http://example.com/l2vpn/1.0. It may take several seconds to receive a response.\n",
      "L2VPN creation successful!\n",
      "Response: {'service_id': '12345'}\n"
     ]
    }
   ],
   "source": [
    "# Create a mocker for requests\n",
    "with requests_mock.Mocker() as mock_requests:\n",
    "    # Mock successful L2VPN creation\n",
    "    mock_requests.register_uri(\n",
    "        \"POST\", f\"{url}/l2vpn/1.0\", \n",
    "        json=mock_response_successful,\n",
    "        status_code=201  # Set status code for successful creation\n",
    "    )\n",
    "    \n",
    "    # Adding debug statement to confirm URL and method\n",
    "    print(f\"Mocking URL: {url}/l2vpn/1.0\")\n",
    "\n",
    "    try:\n",
    "        response = client.create_l2vpn()  \n",
    "        print(\"L2VPN creation successful!\")\n",
    "        print(f\"Response: {response}\")  \n",
    "    except SDXException as e:\n",
    "        print(f\"L2VPN creation failed: {e}\")  "
   ]
  },
  {
   "cell_type": "markdown",
   "id": "3dfb8c6d",
   "metadata": {},
   "source": [
    "# Retrieve L2VPNs"
   ]
  },
  {
   "cell_type": "code",
   "execution_count": null,
   "id": "6eb8bd65",
   "metadata": {},
   "outputs": [],
   "source": []
  },
  {
   "cell_type": "code",
   "execution_count": null,
   "id": "2a2fb27b",
   "metadata": {},
   "outputs": [],
   "source": []
  },
  {
   "cell_type": "code",
   "execution_count": null,
   "id": "2bba5e25",
   "metadata": {},
   "outputs": [],
   "source": []
  },
  {
   "cell_type": "code",
   "execution_count": null,
   "id": "74e0efb9",
   "metadata": {},
   "outputs": [],
   "source": []
  },
  {
   "cell_type": "code",
   "execution_count": null,
   "id": "0c20eda8",
   "metadata": {},
   "outputs": [],
   "source": []
  },
  {
   "cell_type": "code",
   "execution_count": null,
   "id": "cc74871f",
   "metadata": {},
   "outputs": [],
   "source": []
  }
 ],
 "metadata": {
  "kernelspec": {
   "display_name": "sdx311env",
   "language": "python",
   "name": "sdx311env"
  },
  "language_info": {
   "codemirror_mode": {
    "name": "ipython",
    "version": 3
   },
   "file_extension": ".py",
   "mimetype": "text/x-python",
   "name": "python",
   "nbconvert_exporter": "python",
   "pygments_lexer": "ipython3",
   "version": "3.11.9"
  }
 },
 "nbformat": 4,
 "nbformat_minor": 5
}
